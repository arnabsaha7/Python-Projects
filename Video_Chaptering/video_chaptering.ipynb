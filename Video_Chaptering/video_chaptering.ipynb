{
 "cells": [
  {
   "cell_type": "markdown",
   "metadata": {},
   "source": [
    "## **Imports**"
   ]
  },
  {
   "cell_type": "code",
   "execution_count": 8,
   "metadata": {},
   "outputs": [
    {
     "name": "stderr",
     "output_type": "stream",
     "text": [
      "Matplotlib is building the font cache; this may take a moment.\n"
     ]
    }
   ],
   "source": [
    "import re\n",
    "import csv\n",
    "import numpy as np\n",
    "import pandas as pd\n",
    "import matplotlib.pyplot as plt\n",
    "from googleapiclient.discovery import build\n",
    "from youtube_transcript_api import YouTubeTranscriptApi\n",
    "from sklearn.feature_extraction.text import TfidfVectorizer, CountVectorizer\n",
    "from sklearn.decomposition import NMF, LatentDirichletAllocation"
   ]
  },
  {
   "cell_type": "markdown",
   "metadata": {},
   "source": [
    "## **API Key**"
   ]
  },
  {
   "cell_type": "code",
   "execution_count": 3,
   "metadata": {},
   "outputs": [],
   "source": [
    "API_KEY = 'your_api_key'"
   ]
  },
  {
   "cell_type": "markdown",
   "metadata": {},
   "source": [
    "## **Collect Video Info & Transcript**"
   ]
  },
  {
   "cell_type": "code",
   "execution_count": 6,
   "metadata": {},
   "outputs": [
    {
     "name": "stdout",
     "output_type": "stream",
     "text": [
      "Transcript saved to STN2mLXr6lQ_transcript.csv\n"
     ]
    }
   ],
   "source": [
    "def get_video_id(url):\n",
    "    video_id_match = re.search(r'(?:v=|\\/)([0-9A-Za-z_-]{11}).*', url)\n",
    "    return video_id_match.group(1) if video_id_match else None\n",
    "\n",
    "def get_video_title(video_id):\n",
    "    # build the youtube service\n",
    "    yt = build('youtube', 'v3', developerKey=API_KEY)\n",
    "\n",
    "    # fetch the video details\n",
    "    request = yt.videos().list(\n",
    "        part = 'snippet',\n",
    "        id = video_id\n",
    "    )\n",
    "\n",
    "    response = request.execute()\n",
    "\n",
    "    # extract the video title\n",
    "    title = response['items'][0]['snippet']['title'] if response['items'] else 'Unkown Title'\n",
    "    return title\n",
    "\n",
    "def get_video_transcript(video_id):\n",
    "    try:\n",
    "        transcript = YouTubeTranscriptApi.get_transcript(video_id)\n",
    "        return transcript\n",
    "    except Exception as e:\n",
    "        print(f\"An error occured: {e}\")\n",
    "        return []\n",
    "    \n",
    "def save_to_csv(title, transcript, filename):\n",
    "    # Save the title & transcript to a CSV file\n",
    "    transcript_data = [{'start': entry['start'], 'text': entry['text']} for entry in transcript]\n",
    "    df = pd.DataFrame(transcript_data)\n",
    "    df.to_csv(filename, index=False)\n",
    "\n",
    "    # Save the title separately\n",
    "    with open(filename, 'a', newline='') as file:\n",
    "        writer = csv.writer(file)\n",
    "        writer.writerow(['Title: ', title])\n",
    "\n",
    "\n",
    "def main():\n",
    "    url = input('Enter the Youtube Video Link: ')\n",
    "    video_id = get_video_id(url)\n",
    "\n",
    "    if not video_id:\n",
    "        print('Invalid Youtube URL.')\n",
    "        return\n",
    "    \n",
    "    title = get_video_title(video_id)\n",
    "    transcript = get_video_transcript(video_id)\n",
    "\n",
    "    if not transcript:\n",
    "        print(\"No transcript available for this video...\")\n",
    "        return\n",
    "    \n",
    "    filename = f\"{video_id}_transcript.csv\"\n",
    "    save_to_csv(title, transcript, filename)\n",
    "    print(f\"Transcript saved to {filename}\")\n",
    "\n",
    "\n",
    "# Execute\n",
    "if __name__ == '__main__':\n",
    "    main()"
   ]
  },
  {
   "cell_type": "markdown",
   "metadata": {},
   "source": [
    "## **Analyze the Collected Data**"
   ]
  },
  {
   "cell_type": "code",
   "execution_count": 9,
   "metadata": {},
   "outputs": [
    {
     "name": "stdout",
     "output_type": "stream",
     "text": [
      "       start                                      text\n",
      "0       0.04     I'm going to be using rev.com all day\n",
      "1      1.959      long just typing up captions banging\n",
      "2        3.8       away on my keyboard mindlessly just\n",
      "3       5.92     listening to audio and typing up what\n",
      "4       7.72   I'm hearing and I'm going to see if you\n",
      "..       ...                                       ...\n",
      "147    307.0    was making about $25 an hour you could\n",
      "148  308.919        do that for 1 hour or you can type\n",
      "149    311.6                           captions for 10\n",
      "150  316.199                                     hours\n",
      "151  Title:   I Tried Typing Subtitles for $12 an Hour\n",
      "\n",
      "[152 rows x 2 columns]\n"
     ]
    }
   ],
   "source": [
    "transcript_df = pd.read_csv('data/STN2mLXr6lQ_transcript.csv')\n",
    "print(transcript_df)"
   ]
  },
  {
   "cell_type": "code",
   "execution_count": 10,
   "metadata": {},
   "outputs": [
    {
     "name": "stdout",
     "output_type": "stream",
     "text": [
      "Dataset Overview:\n",
      "<class 'pandas.core.frame.DataFrame'>\n",
      "RangeIndex: 152 entries, 0 to 151\n",
      "Data columns (total 2 columns):\n",
      " #   Column  Non-Null Count  Dtype  \n",
      "---  ------  --------------  -----  \n",
      " 0   start   151 non-null    float64\n",
      " 1   text    152 non-null    object \n",
      "dtypes: float64(1), object(1)\n",
      "memory usage: 2.5+ KB\n",
      "None\n",
      "\n",
      "Basic Statistics:\n",
      "           start\n",
      "count  151.00000\n",
      "mean   148.35657\n",
      "std     90.31793\n",
      "min      0.04000\n",
      "25%     71.19950\n",
      "50%    148.28000\n",
      "75%    220.07950\n",
      "max    316.19900\n"
     ]
    }
   ],
   "source": [
    "transcript_df['start'] = pd.to_numeric(transcript_df['start'], errors='coerce')\n",
    "\n",
    "print('Dataset Overview:')\n",
    "print(transcript_df.info())\n",
    "\n",
    "print(\"\\nBasic Statistics:\")\n",
    "print(transcript_df.describe())"
   ]
  },
  {
   "cell_type": "markdown",
   "metadata": {},
   "source": [
    "- `Lets have a look at the Text Distribution`"
   ]
  },
  {
   "cell_type": "code",
   "execution_count": 13,
   "metadata": {},
   "outputs": [
    {
     "data": {
      "image/png": "[encoded data removed]",
      "text/plain": [
       "<Figure size 1000x500 with 1 Axes>"
      ]
     },
     "metadata": {},
     "output_type": "display_data"
    }
   ],
   "source": [
    "# Distribution of text lengths\n",
    "transcript_df['text_length'] = transcript_df['text'].apply(len)\n",
    "plt.figure(figsize=(10,5))\n",
    "plt.hist(transcript_df['text_length'], bins=50, color='orange', alpha=0.7)\n",
    "plt.title('Distribution of Text Lengths')\n",
    "plt.xlabel('Text Length')\n",
    "plt.ylabel('Frequency')\n",
    "plt.show()"
   ]
  },
  {
   "cell_type": "markdown",
   "metadata": {},
   "source": [
    "- `Lets find the most commonly used words`"
   ]
  },
  {
   "cell_type": "code",
   "execution_count": 14,
   "metadata": {},
   "outputs": [
    {
     "data": {
      "image/png": "[encoded data removed]",
      "text/plain": [
       "<Figure size 1000x500 with 1 Axes>"
      ]
     },
     "metadata": {},
     "output_type": "display_data"
    }
   ],
   "source": [
    "vec = CountVectorizer(stop_words='english')\n",
    "word_counts = vec.fit_transform(transcript_df['text'])\n",
    "word_counts_df = pd.DataFrame(word_counts.toarray(), columns=vec.get_feature_names_out())\n",
    "common_words = word_counts_df.sum().sort_values(ascending=False).head(20)\n",
    "\n",
    "plt.figure(figsize=(10,5))\n",
    "common_words.plot(kind='bar', color='skyblue', alpha=0.7)\n",
    "plt.title('Top 20 Most Common Words')\n",
    "plt.xlabel('Words')\n",
    "plt.ylabel('Frequency')\n",
    "plt.show()"
   ]
  },
  {
   "cell_type": "markdown",
   "metadata": {},
   "source": [
    "## **Perform Top Modeling**"
   ]
  },
  {
   "cell_type": "code",
   "execution_count": 15,
   "metadata": {},
   "outputs": [
    {
     "name": "stdout",
     "output_type": "stream",
     "text": [
      "\n",
      "Identified Topics:\n",
      "Topic 1: just ve started want jobs cuz quite platform start away\n",
      "Topic 2: captions written write typing youtube person 10 hours finished say\n",
      "Topic 3: hour half took making reading typing cents sign did shift\n",
      "Topic 4: job minimum wage working finished paid videos going day far\n",
      "Topic 5: rev com video going wanted got day bit half start\n",
      "Topic 6: minutes 20 cents 50 took pages focus ve far worth\n",
      "Topic 7: long super going video ago style guide typing sign minutes\n",
      "Topic 8: make money shift got did doing paid home oh work\n",
      "Topic 9: minute write audio going video want ve gave cents time\n",
      "Topic 10: like guide style pages people super bit half 20 rev\n"
     ]
    }
   ],
   "source": [
    "# Using Non-negative Matrix Factorization (NMF)\n",
    "n_features = 1000\n",
    "n_topics = 10\n",
    "n_top_words = 10\n",
    "\n",
    "tf_vectorizer = CountVectorizer(max_df=0.95, min_df=2, stop_words='english')\n",
    "tf = tf_vectorizer.fit_transform(transcript_df['text'])\n",
    "nmf = NMF(n_components=n_topics, random_state=42).fit(tf)\n",
    "tf_feature_names = tf_vectorizer.get_feature_names_out()\n",
    "\n",
    "def display_topics(model, feature_names, no_top_words):\n",
    "    topics = []\n",
    "    for topic_idx, topic in enumerate(model.components_):\n",
    "        topic_words = [feature_names[i] for i in topic.argsort()[:-no_top_words - 1:-1]]\n",
    "        topics.append(\" \".join(topic_words))\n",
    "    return topics\n",
    "\n",
    "topics = display_topics(nmf, tf_feature_names, n_top_words)\n",
    "print(\"\\nIdentified Topics:\")\n",
    "for i, topic in enumerate(topics):\n",
    "    print(f\"Topic {i+1}: {topic}\")"
   ]
  },
  {
   "cell_type": "code",
   "execution_count": 16,
   "metadata": {},
   "outputs": [],
   "source": [
    "# Get topic distribution for each text segment\n",
    "topic_distribution = nmf.transform(tf)\n",
    "\n",
    "# Align the lengths by trimming the extra row in topic_distribution\n",
    "trimmed = topic_distribution[:len(transcript_df)]\n",
    "\n",
    "# compute the dominant topic for each text segment\n",
    "transcript_df['dominant_topic'] = trimmed.argmax(axis=1)"
   ]
  },
  {
   "cell_type": "code",
   "execution_count": 17,
   "metadata": {},
   "outputs": [],
   "source": [
    "logical_breaks = []\n",
    "\n",
    "for i in range(1, len(transcript_df)):\n",
    "    if transcript_df['dominant_topic'].iloc[i] != transcript_df['dominant_topic'].iloc[i-1]:\n",
    "        logical_breaks.append(transcript_df['start'].iloc[i])\n",
    "\n",
    "# Consolidate the logical breaks into broader chapters\n",
    "threshold = 60      # seconds\n",
    "consolidated_breaks = []\n",
    "last_break = None\n",
    "\n",
    "for break_point in logical_breaks:\n",
    "    if last_break is None or break_point - last_break >= threshold:\n",
    "        consolidated_breaks.append(break_point)\n",
    "        last_break = break_point\n",
    "\n",
    "# Merge consecutive breaks with the same dominant topic\n",
    "final_chapters = []\n",
    "last_chapter = (consolidated_breaks[0], transcript_df['dominant_topic'][0])\n",
    "\n",
    "for break_point in consolidated_breaks[1:]:\n",
    "    current_topic = transcript_df[transcript_df['start'] == break_point]['dominant_topic'].values[0]\n",
    "    if current_topic == last_chapter[1]:\n",
    "        last_chapter = (last_chapter[0], current_topic)\n",
    "    else:\n",
    "        final_chapters.append(last_chapter)\n",
    "        last_chapter = (break_point, current_topic)\n",
    "\n",
    "final_chapters.append(last_chapter)  # append the last chapter"
   ]
  },
  {
   "cell_type": "markdown",
   "metadata": {},
   "source": [
    "## **Final Steps**"
   ]
  },
  {
   "cell_type": "code",
   "execution_count": 18,
   "metadata": {},
   "outputs": [
    {
     "name": "stdout",
     "output_type": "stream",
     "text": [
      "\n",
      "Final Chapter Points with Names:\n",
      "00:00:01 - Chapter 1: com rev video\n",
      "00:01:02 - Chapter 2: accepted long minutes\n",
      "00:02:03 - Chapter 3: got make work\n",
      "00:03:04 - Chapter 4: able going minute\n",
      "00:05:11 - Chapter 5: 10 captions hours\n"
     ]
    }
   ],
   "source": [
    "# Convert the final chapters to a readable time format\n",
    "chapter_points = []\n",
    "chapter_names = []\n",
    "\n",
    "for i, (break_point, topic_idx) in enumerate(final_chapters):\n",
    "    chapter_time = pd.to_datetime(break_point, unit='s').strftime('%H:%M:%S')\n",
    "    chapter_points.append(chapter_time)\n",
    "\n",
    "    # get the context for the chapter name\n",
    "    chapter_text = transcript_df[(transcript_df['start'] >= break_point) & (transcript_df['dominant_topic'] == topic_idx)]['text'].str.cat(sep=' ')\n",
    "\n",
    "    # extract key phrases to create a chapter name\n",
    "    vectorizer = TfidfVectorizer(stop_words='english', max_features=3)\n",
    "    tfidf_matrix = vectorizer.fit_transform([chapter_text])\n",
    "    feature_names = vectorizer.get_feature_names_out()\n",
    "    chapter_name = \" \".join(feature_names)\n",
    "\n",
    "    chapter_names.append(f\"Chapter {i+1}: {chapter_name}\")\n",
    "\n",
    "# display the final chapter points with names\n",
    "print(\"\\nFinal Chapter Points with Names:\")\n",
    "for time, name in zip(chapter_points, chapter_names):\n",
    "    print(f\"{time} - {name}\")"
   ]
  },
  {
   "cell_type": "markdown",
   "metadata": {},
   "source": [
    "`In the above code, we are converting the final chapter breakpoints into a readable time format and generating meaningful names for each chapter.`"
   ]
  },
  {
   "cell_type": "markdown",
   "metadata": {},
   "source": [
    "### **Summary**\n",
    "So, this is how Video Chaptering works."
   ]
  },
  {
   "cell_type": "code",
   "execution_count": null,
   "metadata": {},
   "outputs": [],
   "source": []
  }
 ],
 "metadata": {
  "kernelspec": {
   "display_name": "Python 3",
   "language": "python",
   "name": "python3"
  },
  "language_info": {
   "codemirror_mode": {
    "name": "ipython",
    "version": 3
   },
   "file_extension": ".py",
   "mimetype": "text/x-python",
   "name": "python",
   "nbconvert_exporter": "python",
   "pygments_lexer": "ipython3",
   "version": "3.12.7"
  }
 },
 "nbformat": 4,
 "nbformat_minor": 2
}
